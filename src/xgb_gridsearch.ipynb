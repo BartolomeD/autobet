{
 "cells": [
  {
   "cell_type": "code",
   "execution_count": 1,
   "metadata": {
    "collapsed": true
   },
   "outputs": [],
   "source": [
    "import xgboost as xgb\n",
    "from sklearn.model_selection import GridSearchCV\n",
    "\n",
    "''' Function to perform gridsearch parameter tuning on xgboost algorithm.\n",
    "\n",
    "# Arguments:\n",
    "    x_train:     ndarray, the trainset features\n",
    "    y_train:     array, the trainset labels\n",
    "    params:      dict, initial xgboost parameters\n",
    "    tune_params: dict, parameters to tune with value grid\n",
    "    \n",
    "# Returns:\n",
    "    gsearch:     dict, optimal values for tune_params parameters\n",
    "'''\n",
    "\n",
    "def gridsearch(X, y, params, tune_params):\n",
    "\n",
    "    model = xgb.XGBClassifier(learning_rate = params['learning_rate'], n_estimators = params['n_estimator']\n",
    "                              , max_depth = params['max_depth'], min_child_weight = params['min_child_weight']\n",
    "                              , gamma = params['gamma'], subsample = params['subsample']\n",
    "                              , colsample_bytree = params['colsample_bytree'], objective = params['objective']\n",
    "                              , scale_pos_weight = params['scale_pos_weight'], seed = params['seed'])\n",
    "\n",
    "    gsearch = GridSearchCV(estimator=model, param_grid=tune_params, scoring=params['scoring']\n",
    "                           , n_jobs=1, iid=False, verbose=1)\n",
    "\n",
    "    gsearch.fit(X, y)\n",
    "    print(gsearch.best_params_)\n",
    "\n",
    "    return gsearch.best_params_\n",
    "\n",
    "def update(base, new):\n",
    "    for par in new.keys():\n",
    "        base[par] = new[par]\n",
    "    return base"
   ]
  },
  {
   "cell_type": "code",
   "execution_count": 2,
   "metadata": {},
   "outputs": [],
   "source": [
    "import pandas as pd\n",
    "from sklearn.model_selection import train_test_split\n",
    "\n",
    "df = pd.read_csv('../../data/processed_stack.csv')\n",
    "X = df.drop('target', axis=1).values\n",
    "y = df['target'].values\n",
    "\n",
    "# keep 15% test data\n",
    "x_train, x_test, y_train, y_test = train_test_split(X, y, test_size=0.15, random_state=33)\n",
    "\n",
    "dtrain = xgb.DMatrix(x_train, label=y_train)\n",
    "dtest = xgb.DMatrix(x_test)"
   ]
  },
  {
   "cell_type": "code",
   "execution_count": 3,
   "metadata": {},
   "outputs": [
    {
     "name": "stdout",
     "output_type": "stream",
     "text": [
      "[0]\ttrain-merror:0.425408+0.00680085\ttest-merror:0.483267+0.00892489\n",
      "[20]\ttrain-merror:0.352189+0.00430245\ttest-merror:0.469655+0.00364296\n"
     ]
    }
   ],
   "source": [
    "# Set initial parameters and find optimal number of boosting rounds\n",
    "\n",
    "xgb_params = {\n",
    "    'objective': 'multi:softmax',\n",
    "    'eval_metric': 'merror',\n",
    "    'learning_rate': 0.1,\n",
    "    'max_depth': 6,\n",
    "    'min_child_weight': 1,\n",
    "    'subsample': 0.7,\n",
    "    'colsample_bytree': 0.7,\n",
    "    'seed': 2017,\n",
    "    'silent': 1,\n",
    "    'num_parallel_tree': 1,\n",
    "    'num_class': 5\n",
    "}\n",
    "\n",
    "res = xgb.cv(xgb_params,\n",
    "             dtrain,\n",
    "             num_boost_round=750,\n",
    "             nfold=4,\n",
    "             seed=2017,\n",
    "             stratified=False,\n",
    "             early_stopping_rounds=15,\n",
    "             verbose_eval=20,\n",
    "             show_stdv=True,\n",
    "             maximize=False)"
   ]
  },
  {
   "cell_type": "code",
   "execution_count": 4,
   "metadata": {
    "collapsed": true
   },
   "outputs": [],
   "source": [
    "# formulate initial parameters\n",
    "params = {\n",
    "    'objective': 'multi:softmax',\n",
    "    'num_class': 3,\n",
    "    'scoring': 'accuracy',\n",
    "    'learning_rate': 0.1,\n",
    "    'max_depth': 6,\n",
    "    'min_child_weight': 1,\n",
    "    'scale_pos_weight': 1,\n",
    "    'subsample': 0.7,\n",
    "    'colsample_bytree': 0.7,\n",
    "    'seed': 1337,\n",
    "    'silent': 1,\n",
    "    'num_parallel_tree': 1,\n",
    "    'gamma': 0,\n",
    "    'n_estimator': res.shape[0]\n",
    "}"
   ]
  },
  {
   "cell_type": "code",
   "execution_count": 5,
   "metadata": {},
   "outputs": [
    {
     "name": "stdout",
     "output_type": "stream",
     "text": [
      "Fitting 3 folds for each of 12 candidates, totalling 36 fits\n"
     ]
    },
    {
     "name": "stderr",
     "output_type": "stream",
     "text": [
      "[Parallel(n_jobs=1)]: Done  36 out of  36 | elapsed:   16.5s finished\n"
     ]
    },
    {
     "name": "stdout",
     "output_type": "stream",
     "text": [
      "{'max_depth': 3, 'min_child_weight': 5}\n",
      "Fitting 3 folds for each of 9 candidates, totalling 27 fits\n"
     ]
    },
    {
     "name": "stderr",
     "output_type": "stream",
     "text": [
      "[Parallel(n_jobs=1)]: Done  27 out of  27 | elapsed:    6.7s finished\n"
     ]
    },
    {
     "name": "stdout",
     "output_type": "stream",
     "text": [
      "{'max_depth': 2, 'min_child_weight': 4}\n"
     ]
    }
   ],
   "source": [
    "# specify the max_depth and min_child weight grid\n",
    "tune_params = {\n",
    " 'max_depth': list(range(3,10,2)),\n",
    " 'min_child_weight': list(range(1,6,2))}\n",
    "tmp = gridsearch(x_train, y_train, params, tune_params)\n",
    "\n",
    "# narrow down grid\n",
    "tune_params = {\n",
    " 'max_depth': [tmp['max_depth'] + i for i in range(-1, 2)],\n",
    " 'min_child_weight': [tmp['min_child_weight'] + i for i in range(-1, 2)]}\n",
    "tmp = gridsearch(x_train, y_train, params, tune_params)\n",
    "\n",
    "# update base parameters with optimal values\n",
    "params = update(params, tmp)"
   ]
  },
  {
   "cell_type": "code",
   "execution_count": 6,
   "metadata": {},
   "outputs": [
    {
     "name": "stdout",
     "output_type": "stream",
     "text": [
      "Fitting 3 folds for each of 5 candidates, totalling 15 fits\n"
     ]
    },
    {
     "name": "stderr",
     "output_type": "stream",
     "text": [
      "[Parallel(n_jobs=1)]: Done  15 out of  15 | elapsed:    3.1s finished\n"
     ]
    },
    {
     "name": "stdout",
     "output_type": "stream",
     "text": [
      "{'gamma': 0.0}\n"
     ]
    }
   ],
   "source": [
    "# specify gamma grid\n",
    "tune_params = {\n",
    " 'gamma':[i/10.0 for i in list(range(0,5))]\n",
    "}\n",
    "tmp = gridsearch(x_train, y_train, params, tune_params)\n",
    "params = update(params, tmp)"
   ]
  },
  {
   "cell_type": "code",
   "execution_count": 7,
   "metadata": {},
   "outputs": [
    {
     "name": "stdout",
     "output_type": "stream",
     "text": [
      "[0]\ttrain-merror:0.463994+0.00285842\ttest-merror:0.47003+0.00779443\n",
      "[20]\ttrain-merror:0.457667+0.00218463\ttest-merror:0.463411+0.00755358\n"
     ]
    }
   ],
   "source": [
    "# re-estimate optimal number of boosting rounds\n",
    "pars = ['scale_pos_weight','gamma','colsample_bytree','max_depth'\n",
    "        ,'subsample','num_parallel_tree','min_child_weight']\n",
    "for par in pars:\n",
    "    xgb_params[par] = params[par]\n",
    "\n",
    "res = xgb.cv(xgb_params,\n",
    "             dtrain,\n",
    "             num_boost_round=750,\n",
    "             nfold=4,\n",
    "             seed=2017,\n",
    "             stratified=False,\n",
    "             early_stopping_rounds=15,\n",
    "             verbose_eval=20,\n",
    "             show_stdv=True,\n",
    "             maximize=False)"
   ]
  },
  {
   "cell_type": "code",
   "execution_count": 8,
   "metadata": {},
   "outputs": [
    {
     "name": "stdout",
     "output_type": "stream",
     "text": [
      "Fitting 3 folds for each of 25 candidates, totalling 75 fits\n"
     ]
    },
    {
     "name": "stderr",
     "output_type": "stream",
     "text": [
      "[Parallel(n_jobs=1)]: Done  75 out of  75 | elapsed:   14.4s finished\n"
     ]
    },
    {
     "name": "stdout",
     "output_type": "stream",
     "text": [
      "{'subsample': 0.5, 'colsample_bytree': 0.6}\n",
      "Fitting 3 folds for each of 36 candidates, totalling 108 fits\n",
      "{'subsample': 0.4, 'colsample_bytree': 0.55}\n"
     ]
    },
    {
     "name": "stderr",
     "output_type": "stream",
     "text": [
      "[Parallel(n_jobs=1)]: Done 108 out of 108 | elapsed:   14.7s finished\n"
     ]
    }
   ],
   "source": [
    "# specify subsample and colsample_bytree grid\n",
    "tune_params = {\n",
    " 'subsample': [i/10.0 for i in list(range(5,10))],\n",
    " 'colsample_bytree': [i/10.0 for i in list(range(5,10))]\n",
    "}\n",
    "tmp = gridsearch(x_train, y_train, params, tune_params)\n",
    "params = update(params, tmp)\n",
    "\n",
    "# narrow down grid\n",
    "tune_params = {\n",
    " 'subsample': [i/100.0 for i in list(range(int(tmp['subsample'] * 100) - 15\n",
    "                                           , int(tmp['subsample'] * 100) + 15, 5))],\n",
    " 'colsample_bytree': [i/100.0 for i in list(range(int(tmp['subsample'] * 100) - 15\n",
    "                                                  , int(tmp['subsample'] * 100) + 15, 5))]\n",
    "}\n",
    "tmp = gridsearch(x_train, y_train, params, tune_params)\n",
    "params = update(params, tmp)"
   ]
  },
  {
   "cell_type": "code",
   "execution_count": 9,
   "metadata": {},
   "outputs": [
    {
     "name": "stdout",
     "output_type": "stream",
     "text": [
      "Fitting 3 folds for each of 5 candidates, totalling 15 fits\n",
      "{'reg_alpha': 0.05}\n"
     ]
    },
    {
     "name": "stderr",
     "output_type": "stream",
     "text": [
      "[Parallel(n_jobs=1)]: Done  15 out of  15 | elapsed:    2.2s finished\n"
     ]
    }
   ],
   "source": [
    "# specify alpha grid\n",
    "tune_params = {\n",
    " 'reg_alpha': [0, 0.001, 0.005, 0.01, 0.05]\n",
    "}\n",
    "tmp = gridsearch(x_train, y_train, params, tune_params)\n",
    "params = update(params, tmp)"
   ]
  },
  {
   "cell_type": "code",
   "execution_count": 10,
   "metadata": {},
   "outputs": [
    {
     "data": {
      "text/plain": [
       "{'colsample_bytree': 0.55,\n",
       " 'gamma': 0.0,\n",
       " 'learning_rate': 0.1,\n",
       " 'max_depth': 2,\n",
       " 'min_child_weight': 4,\n",
       " 'n_estimator': 16,\n",
       " 'num_class': 3,\n",
       " 'num_parallel_tree': 1,\n",
       " 'objective': 'multi:softmax',\n",
       " 'reg_alpha': 0.05,\n",
       " 'scale_pos_weight': 1,\n",
       " 'scoring': 'accuracy',\n",
       " 'seed': 1337,\n",
       " 'silent': 1,\n",
       " 'subsample': 0.4}"
      ]
     },
     "execution_count": 10,
     "metadata": {},
     "output_type": "execute_result"
    }
   ],
   "source": [
    "# print optimal hyperparameters\n",
    "params"
   ]
  }
 ],
 "metadata": {
  "kernelspec": {
   "display_name": "Python 3",
   "language": "python",
   "name": "python3"
  },
  "language_info": {
   "codemirror_mode": {
    "name": "ipython",
    "version": 3
   },
   "file_extension": ".py",
   "mimetype": "text/x-python",
   "name": "python",
   "nbconvert_exporter": "python",
   "pygments_lexer": "ipython3",
   "version": "3.5.3"
  }
 },
 "nbformat": 4,
 "nbformat_minor": 2
}
