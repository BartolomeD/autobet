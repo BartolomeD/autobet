{
 "cells": [
  {
   "cell_type": "code",
   "execution_count": 1,
   "metadata": {},
   "outputs": [
    {
     "name": "stderr",
     "output_type": "stream",
     "text": [
      "Using TensorFlow backend.\n"
     ]
    }
   ],
   "source": [
    "# imports\n",
    "import numpy as np\n",
    "import pandas as pd\n",
    "import xgboost as xgb\n",
    "from collections import OrderedDict\n",
    "from sklearn.model_selection import KFold, train_test_split\n",
    "from sklearn.linear_model import LogisticRegression\n",
    "from sklearn.neighbors import KNeighborsClassifier\n",
    "from sklearn.ensemble import RandomForestClassifier\n",
    "from sklearn.metrics import classification_report, accuracy_score\n",
    "from keras.models import Sequential\n",
    "from keras.layers import Dense, Dropout, Activation\n",
    "from keras.layers.advanced_activations import PReLU\n",
    "from keras.callbacks import EarlyStopping\n",
    "import matplotlib.pyplot as plt\n",
    "%matplotlib inline"
   ]
  },
  {
   "cell_type": "code",
   "execution_count": 2,
   "metadata": {
    "collapsed": true
   },
   "outputs": [],
   "source": [
    "# helper functions\n",
    "def StackEnsemble(models, x_train, y_train, x_test, n_folds=5, prob=True, orig_data=True, verbose=True):\n",
    "    \n",
    "    def _join(x, preds): \n",
    "        x = x if orig_data else np.array([]).reshape(len(x), 0)\n",
    "        for pred in preds.values():\n",
    "            x = np.concatenate([x, np.array(pred).reshape(-1, len(set(y_train)) if prob else 1)], axis=1)\n",
    "        return x\n",
    "    \n",
    "    def _predict(x):\n",
    "        return model.predict_proba(x) if prob else model.predict(x)\n",
    "\n",
    "    kf = KFold(n_splits = n_folds)\n",
    "    preds_train = OrderedDict()\n",
    "    preds_test = OrderedDict()\n",
    "\n",
    "    for name, model in [(str(type(m)).split('.')[-1][:-2], m) for m in models]:\n",
    "        if verbose: print('Getting predictions from {}..'.format(name))\n",
    "\n",
    "        preds_train[name] = []\n",
    "        for train, test in kf.split(x_train):\n",
    "            model.fit(x_train[train], y_train[train])\n",
    "            preds_train[name].extend(_predict(x_train[test]))\n",
    "        preds_test[name] = _predict(x_test)    \n",
    "\n",
    "    return _join(x_train, preds_train), _join(x_test, preds_test)"
   ]
  },
  {
   "cell_type": "code",
   "execution_count": 3,
   "metadata": {
    "collapsed": true
   },
   "outputs": [],
   "source": [
    "# load processed dataset\n",
    "df = pd.read_csv('../../data/processed.csv')\n",
    "\n",
    "# split target from data and create train/test split\n",
    "x = df.drop('target', axis=1)\n",
    "y = df['target']\n",
    "x_train, x_test, y_train, y_test = train_test_split(x.values, y.values, test_size=0.2, random_state=1337)\n",
    "\n",
    "# split odds for backtest\n",
    "odds = x_test[:, 1:25]"
   ]
  },
  {
   "cell_type": "code",
   "execution_count": 4,
   "metadata": {},
   "outputs": [
    {
     "name": "stdout",
     "output_type": "stream",
     "text": [
      "Getting predictions from LogisticRegression..\n",
      "Getting predictions from KNeighborsClassifier..\n",
      "Getting predictions from RandomForestClassifier..\n"
     ]
    }
   ],
   "source": [
    "# get predictions from 1st level models\n",
    "models = [LogisticRegression(class_weight='balanced'), \n",
    "          KNeighborsClassifier(), \n",
    "          RandomForestClassifier(class_weight='balanced')]\n",
    "\n",
    "x_train_stack, x_test_stack = StackEnsemble(models, x_train, y_train, x_test, prob=True, orig_data=True)"
   ]
  },
  {
   "cell_type": "code",
   "execution_count": 5,
   "metadata": {
    "collapsed": true
   },
   "outputs": [],
   "source": [
    "# save stacked data for XGB hyperparameter tuning\n",
    "tune = pd.concat([pd.DataFrame(x_train_stack), pd.Series(y_train)], axis=1)\n",
    "cols = list(df.columns)[:-1]\n",
    "cols.extend(['lr_h','lr_d','lr_a','kn_h','kn_d','kn_a','rf_h','rf_d','rf_a','target'])\n",
    "tune.columns = cols\n",
    "tune.to_csv('../../data/processed_stack.csv')"
   ]
  },
  {
   "cell_type": "code",
   "execution_count": 6,
   "metadata": {},
   "outputs": [
    {
     "name": "stderr",
     "output_type": "stream",
     "text": [
      "/home/daniel/miniconda3/envs/three/lib/python3.5/site-packages/sklearn/metrics/classification.py:1113: UndefinedMetricWarning: Precision and F-score are ill-defined and being set to 0.0 in labels with no predicted samples.\n",
      "  'precision', 'predicted', average, warn_for)\n"
     ]
    },
    {
     "name": "stdout",
     "output_type": "stream",
     "text": [
      "             precision    recall  f1-score   support\n",
      "\n",
      "          0       0.56      0.86      0.68      1104\n",
      "          1       0.00      0.00      0.00       604\n",
      "          2       0.50      0.51      0.50       649\n",
      "\n",
      "avg / total       0.40      0.54      0.46      2357\n",
      "\n",
      "0.542638947815\n"
     ]
    },
    {
     "data": {
      "image/png": "[encoded data removed]",
      "text/plain": [
       "<matplotlib.figure.Figure at 0x7f3802747668>"
      ]
     },
     "metadata": {},
     "output_type": "display_data"
    }
   ],
   "source": [
    "## XGBoost\n",
    "\n",
    "# train xgboost classifier and get predictions\n",
    "model = xgb.XGBClassifier(colsample_bytree=0.55,gamma=0,learning_rate=0.1,max_depth=2,n_estimators=16,\n",
    "                          min_child_weight=4,objective='multi:softmax',reg_alpha=0.05,scale_pos_weight=1,\n",
    "                          subsample=0.4).fit(x_train_stack, y_train)\n",
    "preds_xgb = model.predict_proba(x_test_stack)\n",
    "\n",
    "# evaluate model performance\n",
    "print(classification_report(y_test, [np.argmax(p) for p in preds_xgb]))\n",
    "print(accuracy_score(y_test, [np.argmax(p) for p in preds_xgb]))\n",
    "\n",
    "# get feature importances\n",
    "tmp = df.drop(['target'], axis=1)\n",
    "cols = list(x.columns)\n",
    "cols.extend(['lr_h','lr_d','lr_a','kn_h','kn_d','kn_a','rf_h','rf_d','rf_a'])\n",
    "feat_importance = pd.DataFrame(pd.concat([pd.Series(model.feature_importances_),\n",
    "                                          pd.Series(cols)], axis=1)).sort_values(0, ascending=False)\n",
    "\n",
    "fig, ax = plt.subplots(1,1, figsize=(16, 3))\n",
    "ax.bar(range(len(feat_importance)), feat_importance.iloc[:,0])\n",
    "ax.set_xticks(range(x_train_stack.shape[1]))\n",
    "ax.set_xticklabels(feat_importance.iloc[:,1])\n",
    "for tick in ax.get_xticklabels():\n",
    "    tick.set_rotation(90)\n",
    "plt.show()"
   ]
  },
  {
   "cell_type": "code",
   "execution_count": 7,
   "metadata": {},
   "outputs": [
    {
     "name": "stdout",
     "output_type": "stream",
     "text": [
      "             precision    recall  f1-score   support\n",
      "\n",
      "          0       0.54      0.88      0.67      1104\n",
      "          1       0.00      0.00      0.00       604\n",
      "          2       0.51      0.44      0.47       649\n",
      "\n",
      "avg / total       0.39      0.53      0.44      2357\n",
      "\n",
      "0.533305048791\n"
     ]
    },
    {
     "name": "stderr",
     "output_type": "stream",
     "text": [
      "/home/daniel/miniconda3/envs/three/lib/python3.5/site-packages/sklearn/metrics/classification.py:1113: UndefinedMetricWarning: Precision and F-score are ill-defined and being set to 0.0 in labels with no predicted samples.\n",
      "  'precision', 'predicted', average, warn_for)\n"
     ]
    }
   ],
   "source": [
    "## Neural Network\n",
    "\n",
    "# define network architecture\n",
    "model = Sequential()\n",
    "model.add(Dense(64, input_dim=x_train_stack.shape[1]))\n",
    "model.add(PReLU())\n",
    "model.add(Dropout(0.15))\n",
    "model.add(Dense(64))\n",
    "model.add(PReLU())\n",
    "model.add(Dropout(0.15))\n",
    "model.add(Dense(3, activation='softmax'))\n",
    "\n",
    "# compile model\n",
    "model.compile(loss='sparse_categorical_crossentropy',\n",
    "              optimizer='adam',\n",
    "              metrics=['accuracy'])\n",
    "cb = [EarlyStopping(monitor='val_loss', patience=3)]\n",
    "\n",
    "# train the network\n",
    "model.fit(x_train_stack, y_train.reshape((-1, 1)), validation_split=0.2, \n",
    "          epochs=100, batch_size=128, callbacks=cb, verbose=0)\n",
    "\n",
    "# get the predictions\n",
    "preds = model.predict_proba(x_test_stack, verbose=0)\n",
    "\n",
    "# evaluate model performance\n",
    "print(classification_report(y_test, [np.argmax(p) for p in preds]))\n",
    "print(accuracy_score(y_test, [np.argmax(p) for p in preds]))"
   ]
  },
  {
   "cell_type": "code",
   "execution_count": 8,
   "metadata": {},
   "outputs": [
    {
     "data": {
      "text/html": [
       "<div>\n",
       "<table border=\"1\" class=\"dataframe\">\n",
       "  <thead>\n",
       "    <tr style=\"text-align: right;\">\n",
       "      <th></th>\n",
       "      <th>B365H</th>\n",
       "      <th>B365D</th>\n",
       "      <th>B365A</th>\n",
       "      <th>BWH</th>\n",
       "      <th>BWD</th>\n",
       "      <th>BWA</th>\n",
       "      <th>IWH</th>\n",
       "      <th>IWD</th>\n",
       "      <th>IWA</th>\n",
       "      <th>LBH</th>\n",
       "      <th>...</th>\n",
       "      <th>VCH</th>\n",
       "      <th>VCD</th>\n",
       "      <th>VCA</th>\n",
       "      <th>GBH</th>\n",
       "      <th>GBD</th>\n",
       "      <th>GBA</th>\n",
       "      <th>lr_h</th>\n",
       "      <th>lr_d</th>\n",
       "      <th>lr_a</th>\n",
       "      <th>target</th>\n",
       "    </tr>\n",
       "  </thead>\n",
       "  <tbody>\n",
       "    <tr>\n",
       "      <th>0</th>\n",
       "      <td>1.36</td>\n",
       "      <td>4.75</td>\n",
       "      <td>8.50</td>\n",
       "      <td>1.36</td>\n",
       "      <td>4.60</td>\n",
       "      <td>9.0</td>\n",
       "      <td>1.37</td>\n",
       "      <td>4.6</td>\n",
       "      <td>7.5</td>\n",
       "      <td>1.36</td>\n",
       "      <td>...</td>\n",
       "      <td>1.36</td>\n",
       "      <td>5.2</td>\n",
       "      <td>9.5</td>\n",
       "      <td>1.36</td>\n",
       "      <td>4.6</td>\n",
       "      <td>9.00</td>\n",
       "      <td>1.007387</td>\n",
       "      <td>3.254611</td>\n",
       "      <td>4.998085</td>\n",
       "      <td>1</td>\n",
       "    </tr>\n",
       "    <tr>\n",
       "      <th>1</th>\n",
       "      <td>1.60</td>\n",
       "      <td>4.20</td>\n",
       "      <td>5.00</td>\n",
       "      <td>1.62</td>\n",
       "      <td>3.60</td>\n",
       "      <td>5.5</td>\n",
       "      <td>1.65</td>\n",
       "      <td>3.4</td>\n",
       "      <td>4.4</td>\n",
       "      <td>1.62</td>\n",
       "      <td>...</td>\n",
       "      <td>1.62</td>\n",
       "      <td>3.8</td>\n",
       "      <td>5.4</td>\n",
       "      <td>1.62</td>\n",
       "      <td>3.6</td>\n",
       "      <td>5.00</td>\n",
       "      <td>1.342904</td>\n",
       "      <td>2.433148</td>\n",
       "      <td>2.903981</td>\n",
       "      <td>1</td>\n",
       "    </tr>\n",
       "    <tr>\n",
       "      <th>2</th>\n",
       "      <td>1.17</td>\n",
       "      <td>6.50</td>\n",
       "      <td>19.00</td>\n",
       "      <td>1.16</td>\n",
       "      <td>7.50</td>\n",
       "      <td>12.0</td>\n",
       "      <td>1.17</td>\n",
       "      <td>6.5</td>\n",
       "      <td>11.5</td>\n",
       "      <td>1.17</td>\n",
       "      <td>...</td>\n",
       "      <td>1.17</td>\n",
       "      <td>8.0</td>\n",
       "      <td>21.0</td>\n",
       "      <td>1.15</td>\n",
       "      <td>7.0</td>\n",
       "      <td>15.00</td>\n",
       "      <td>0.867808</td>\n",
       "      <td>5.222123</td>\n",
       "      <td>6.402909</td>\n",
       "      <td>0</td>\n",
       "    </tr>\n",
       "    <tr>\n",
       "      <th>3</th>\n",
       "      <td>2.10</td>\n",
       "      <td>3.25</td>\n",
       "      <td>3.75</td>\n",
       "      <td>2.00</td>\n",
       "      <td>3.25</td>\n",
       "      <td>3.8</td>\n",
       "      <td>2.20</td>\n",
       "      <td>3.2</td>\n",
       "      <td>3.0</td>\n",
       "      <td>2.10</td>\n",
       "      <td>...</td>\n",
       "      <td>2.10</td>\n",
       "      <td>3.3</td>\n",
       "      <td>3.8</td>\n",
       "      <td>2.00</td>\n",
       "      <td>3.2</td>\n",
       "      <td>3.75</td>\n",
       "      <td>1.600282</td>\n",
       "      <td>2.201756</td>\n",
       "      <td>2.375706</td>\n",
       "      <td>2</td>\n",
       "    </tr>\n",
       "    <tr>\n",
       "      <th>4</th>\n",
       "      <td>1.83</td>\n",
       "      <td>3.60</td>\n",
       "      <td>4.33</td>\n",
       "      <td>1.75</td>\n",
       "      <td>3.75</td>\n",
       "      <td>4.1</td>\n",
       "      <td>1.95</td>\n",
       "      <td>3.4</td>\n",
       "      <td>3.5</td>\n",
       "      <td>1.80</td>\n",
       "      <td>...</td>\n",
       "      <td>1.83</td>\n",
       "      <td>3.8</td>\n",
       "      <td>4.5</td>\n",
       "      <td>1.85</td>\n",
       "      <td>3.3</td>\n",
       "      <td>4.33</td>\n",
       "      <td>1.384490</td>\n",
       "      <td>2.369909</td>\n",
       "      <td>2.810923</td>\n",
       "      <td>0</td>\n",
       "    </tr>\n",
       "  </tbody>\n",
       "</table>\n",
       "<p>5 rows × 28 columns</p>\n",
       "</div>"
      ],
      "text/plain": [
       "   B365H  B365D  B365A   BWH   BWD   BWA   IWH  IWD   IWA   LBH   ...     VCH  \\\n",
       "0   1.36   4.75   8.50  1.36  4.60   9.0  1.37  4.6   7.5  1.36   ...    1.36   \n",
       "1   1.60   4.20   5.00  1.62  3.60   5.5  1.65  3.4   4.4  1.62   ...    1.62   \n",
       "2   1.17   6.50  19.00  1.16  7.50  12.0  1.17  6.5  11.5  1.17   ...    1.17   \n",
       "3   2.10   3.25   3.75  2.00  3.25   3.8  2.20  3.2   3.0  2.10   ...    2.10   \n",
       "4   1.83   3.60   4.33  1.75  3.75   4.1  1.95  3.4   3.5  1.80   ...    1.83   \n",
       "\n",
       "   VCD   VCA   GBH  GBD    GBA      lr_h      lr_d      lr_a  target  \n",
       "0  5.2   9.5  1.36  4.6   9.00  1.007387  3.254611  4.998085       1  \n",
       "1  3.8   5.4  1.62  3.6   5.00  1.342904  2.433148  2.903981       1  \n",
       "2  8.0  21.0  1.15  7.0  15.00  0.867808  5.222123  6.402909       0  \n",
       "3  3.3   3.8  2.00  3.2   3.75  1.600282  2.201756  2.375706       2  \n",
       "4  3.8   4.5  1.85  3.3   4.33  1.384490  2.369909  2.810923       0  \n",
       "\n",
       "[5 rows x 28 columns]"
      ]
     },
     "execution_count": 8,
     "metadata": {},
     "output_type": "execute_result"
    }
   ],
   "source": [
    "# transform averaged level 2 predictions\n",
    "predictions = 1 / (preds_xgb + preds / 2)\n",
    "\n",
    "# concat to backtest data\n",
    "x_bt = pd.concat([pd.DataFrame(odds), pd.DataFrame(predictions), pd.Series(y_test)], axis=1)\n",
    "col = cols[1:25] + cols[-9:-6] + ['target']\n",
    "x_bt.columns = col\n",
    "\n",
    "x_bt.head()"
   ]
  },
  {
   "cell_type": "code",
   "execution_count": 9,
   "metadata": {
    "collapsed": true
   },
   "outputs": [],
   "source": [
    "x_bt.to_csv('../../data/stack_backtest.csv', index=False)"
   ]
  }
 ],
 "metadata": {
  "kernelspec": {
   "display_name": "Python 3",
   "language": "python",
   "name": "python3"
  },
  "language_info": {
   "codemirror_mode": {
    "name": "ipython",
    "version": 3
   },
   "file_extension": ".py",
   "mimetype": "text/x-python",
   "name": "python",
   "nbconvert_exporter": "python",
   "pygments_lexer": "ipython3",
   "version": "3.5.3"
  }
 },
 "nbformat": 4,
 "nbformat_minor": 2
}
