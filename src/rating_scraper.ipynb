{
 "cells": [
  {
   "cell_type": "markdown",
   "metadata": {},
   "source": [
    "# AutoBet Rating Scraper\n",
    "\n",
    "This notebook will scrape the FIFA index (https://www.fifaindex.com/) for real-time player and club performance data. The main purpose for this index is to adjust the player/club abilities in the game FIFA '17 to match the performance of their real-life counterpart. Although it's unclear how FIFA determines these values, they might be useful features for the AutoBet classifier."
   ]
  },
  {
   "cell_type": "code",
   "execution_count": 1,
   "metadata": {
    "collapsed": false
   },
   "outputs": [],
   "source": [
    "from lxml import html\n",
    "from tqdm import *\n",
    "import pandas as pd\n",
    "import requests"
   ]
  },
  {
   "cell_type": "markdown",
   "metadata": {},
   "source": [
    "## Player information\n",
    "#### *Hyperlink extraction*\n",
    "\n",
    "First, we need to scrape the website for the hyperlinks referencing to all players in their database. These links are saved in the list *links* and stored to csv for backup."
   ]
  },
  {
   "cell_type": "code",
   "execution_count": 86,
   "metadata": {
    "collapsed": false
   },
   "outputs": [],
   "source": [
    "# Set base webpage\n",
    "base = 'https://www.fifaindex.com/players/'\n",
    "\n",
    "# Create html tree\n",
    "page = requests.get(base)\n",
    "tree = html.fromstring(page.content)\n",
    "\n",
    "# Get player hyperlinks\n",
    "links = list(set([link for link in tree.xpath('//*[@id=\"no-more-tables\"]/table/tbody/tr/td/a[@title]/@href') if link.startswith('/player/')]))\n",
    "\n",
    "# Repeat for all pages (587 pages in total)\n",
    "for i in range(2, 587):\n",
    "    base = base[:34] + str(i)+'/'\n",
    "    page = requests.get(base)\n",
    "    tree = html.fromstring(page.content)\n",
    "    \n",
    "    player_links = list(set([link for link in tree.xpath('//*[@id=\"no-more-tables\"]/table/tbody/tr/td/a[@title]/@href') if link.startswith('/player/')]))\n",
    "    \n",
    "    for link in player_links:\n",
    "        links.append(link)\n",
    "    \n",
    "pd.Series(links).to_csv('../data/hyperlinks.csv', index=False)"
   ]
  },
  {
   "cell_type": "code",
   "execution_count": null,
   "metadata": {
    "collapsed": true
   },
   "outputs": [],
   "source": [
    "links = list(pd.read_csv('../data/hyperlinks.csv'))"
   ]
  },
  {
   "cell_type": "markdown",
   "metadata": {},
   "source": [
    "#### *Feature scraping*\n",
    "\n",
    "Now that we have all the hyperlinks, we can extract the features from them. These are stored in a pandas DataFrame, where the players are indexed in the rows and features stored over the columns. With my network speed, the downloading will take about 1.5 hours."
   ]
  },
  {
   "cell_type": "code",
   "execution_count": null,
   "metadata": {
    "collapsed": true
   },
   "outputs": [],
   "source": [
    "page = requests.get('https://www.fifaindex.com' + links[0])\n",
    "tree = html.fromstring(page.content)\n",
    "\n",
    "# Get feature names\n",
    "features = []\n",
    "for element in tree.find_class('pull-right'):\n",
    "    try:\n",
    "        features.append(element.getparent().text_content()[:-3])\n",
    "    except:\n",
    "        continue      \n",
    "feature = features[16:]\n",
    "feature.insert(0, 'Overall_2')\n",
    "feature.insert(0, 'Overall_1')\n",
    "feature.append('Name')\n",
    "\n",
    "# Scrape player features and create DataFrame\n",
    "data = []\n",
    "for hyperlink in tqdm(links):    \n",
    "    page = requests.get('https://www.fifaindex.com' + hyperlink)\n",
    "    tree = html.fromstring(page.content)\n",
    "    features = [int(element.text_content()) for element in tree.find_class('label rating')]\n",
    "    features.append(tree.find_class('panel-title')[0].text_content()[:-6])\n",
    "    data.append(features)\n",
    "\n",
    "df = pd.DataFrame(data, columns=feature)\n",
    "df.to_csv('../data/player_features.csv', index=False, encoding='utf8')"
   ]
  },
  {
   "cell_type": "markdown",
   "metadata": {},
   "source": [
    "## Club information\n",
    "\n",
    "We will do the same thing for clubs"
   ]
  },
  {
   "cell_type": "markdown",
   "metadata": {},
   "source": [
    "#### *Hyperlink extraction*"
   ]
  },
  {
   "cell_type": "code",
   "execution_count": 25,
   "metadata": {
    "collapsed": false
   },
   "outputs": [],
   "source": [
    "# Set base webpage\n",
    "base = 'https://www.fifaindex.com/teams/'\n",
    "\n",
    "# Create html tree\n",
    "page = requests.get(base)\n",
    "tree = html.fromstring(page.content)\n",
    "\n",
    "# Get player hyperlinks\n",
    "links = list(set([link for link in tree.xpath('//*[@id=\"no-more-tables\"]/table/tbody/tr/td/a[@title]/@href') if link.startswith('/team/')]))\n",
    "\n",
    "# Repeat for all pages (587 pages in total)\n",
    "for i in range(2, 23):\n",
    "    base = base[:32] + str(i)+'/'\n",
    "    page = requests.get(base)\n",
    "    tree = html.fromstring(page.content)\n",
    "    \n",
    "    team_links = list(set([link for link in tree.xpath('//*[@id=\"no-more-tables\"]/table/tbody/tr/td/a[@title]/@href') if link.startswith('/team/')]))\n",
    "    \n",
    "    for link in team_links:\n",
    "        links.append(link)\n",
    "    \n",
    "pd.Series(links).to_csv('./team_hyperlinks.csv', index=False)"
   ]
  },
  {
   "cell_type": "code",
   "execution_count": null,
   "metadata": {
    "collapsed": true
   },
   "outputs": [],
   "source": [
    "links = list(pd.read_csv('./team_hyperlinks.csv'))"
   ]
  },
  {
   "cell_type": "markdown",
   "metadata": {},
   "source": [
    "#### *Feature scraping*"
   ]
  },
  {
   "cell_type": "code",
   "execution_count": 119,
   "metadata": {
    "collapsed": false
   },
   "outputs": [],
   "source": [
    "page = requests.get('https://www.fifaindex.com' + links[0])\n",
    "tree = html.fromstring(page.content)\n",
    "\n",
    "# Get feature names\n",
    "features = []\n",
    "for element in tree.find_class('pull-right'):\n",
    "    try:\n",
    "        features.append(element.getparent().text_content()[:-3])\n",
    "    except:\n",
    "        continue    \n",
    "feature = features[2:14]\n",
    "feature.insert(len(feature), 'Club')\n",
    "\n",
    "# Scrape club features and create DataFrame\n",
    "data = []\n",
    "for hyperlink in links:\n",
    "    page = requests.get('https://www.fifaindex.com' + hyperlink)\n",
    "    tree = html.fromstring(page.content)\n",
    "    features = [e.text_content() for e in tree.find_class('pull-right')][2:14]    \n",
    "    features.append(tree.find_class('team normal')[0].items()[1][1])\n",
    "    data.append(features)\n",
    "    \n",
    "df = pd.DataFrame(data, columns=feature)\n",
    "df.to_csv('./team_features.csv', index=False, encoding='utf8')"
   ]
  },
  {
   "cell_type": "markdown",
   "metadata": {},
   "source": [
    "## Save to SQL\n",
    "\n",
    "All dataframes are stored in .sqlite for later usage"
   ]
  },
  {
   "cell_type": "code",
   "execution_count": 9,
   "metadata": {
    "collapsed": false
   },
   "outputs": [
    {
     "name": "stderr",
     "output_type": "stream",
     "text": [
      "/home/daniel/miniconda2/lib/python2.7/site-packages/ipykernel/__main__.py:11: UserWarning: The spaces in these column names will not be changed. In pandas versions < 0.14, spaces were converted to underscores.\n",
      "/home/daniel/miniconda2/lib/python2.7/site-packages/ipykernel/__main__.py:13: UserWarning: The spaces in these column names will not be changed. In pandas versions < 0.14, spaces were converted to underscores.\n"
     ]
    }
   ],
   "source": [
    "import sqlite3\n",
    "from pandas.io import sql\n",
    "\n",
    "tf = pd.read_csv('../data/team_features.csv', encoding='latin-1')\n",
    "tl = pd.read_csv('../data/team_hyperlinks.csv', encoding='latin-1')\n",
    "pf = pd.read_csv('../data/player_features.csv', encoding='latin-1')\n",
    "pl = pd.read_csv('../data/player_hyperlinks.csv', encoding='latin-1')\n",
    "\n",
    "db = sqlite3.connect('../data/features.sqlite')\n",
    "\n",
    "sql.to_sql(tf, name='team_features', con=db, index=False)\n",
    "sql.to_sql(tl, name='team_links', con=db, index=False)\n",
    "sql.to_sql(pf, name='player_features', con=db, index=False)\n",
    "sql.to_sql(pl, name='player_links', con=db, index=False)\n",
    "\n",
    "db.commit()"
   ]
  }
 ],
 "metadata": {
  "anaconda-cloud": {},
  "kernelspec": {
   "display_name": "Python [default]",
   "language": "python",
   "name": "python2"
  },
  "language_info": {
   "codemirror_mode": {
    "name": "ipython",
    "version": 2
   },
   "file_extension": ".py",
   "mimetype": "text/x-python",
   "name": "python",
   "nbconvert_exporter": "python",
   "pygments_lexer": "ipython2",
   "version": "2.7.12"
  }
 },
 "nbformat": 4,
 "nbformat_minor": 2
}
